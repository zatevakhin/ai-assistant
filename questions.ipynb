{
 "cells": [
  {
   "cell_type": "markdown",
   "metadata": {},
   "source": [
    "move audio commands separately\n",
    "to be able to use them in playbook\n",
    "use playbook to perform voice tests\n",
    "later can be wrapped into pytest\n",
    "no need to talk yey!"
   ]
  },
  {
   "cell_type": "code",
   "execution_count": 92,
   "metadata": {},
   "outputs": [],
   "source": [
    "import pymumble_py3\n",
    "import numpy as np\n",
    "import resampy\n",
    "import time\n",
    "from voice_forge import PiperTts\n",
    "from pymumble_py3.constants import PYMUMBLE_SAMPLERATE\n",
    "from assistant.config import (\n",
    "    MUMBLE_SERVER_PORT,\n",
    "    MUMBLE_SERVER_PASSWORD,\n",
    "    PIPER_MODELS_LOCATION\n",
    ")"
   ]
  },
  {
   "cell_type": "code",
   "execution_count": 93,
   "metadata": {},
   "outputs": [],
   "source": [
    "tts = PiperTts(\"en_US-kathleen-low\", PIPER_MODELS_LOCATION)\n",
    "mumble = pymumble_py3.Mumble(\n",
    "    host=\"127.0.0.1\",\n",
    "    user=\"Query\",\n",
    "    port=MUMBLE_SERVER_PORT,\n",
    "    password=MUMBLE_SERVER_PASSWORD,\n",
    ")\n",
    "\n",
    "mumble.start()"
   ]
  },
  {
   "cell_type": "code",
   "execution_count": 94,
   "metadata": {},
   "outputs": [],
   "source": [
    "def synthesize_and_stream(mumble: pymumble_py3.Mumble, tts: PiperTts, text: str):\n",
    "    data, samplerate = tts.synthesize_stream(text)\n",
    "    resampled_data = resampy.resample(data, samplerate, PYMUMBLE_SAMPLERATE)\n",
    "\n",
    "    # NOTE: Added 1 second of silence, because VAD needs silence after sentence to trigger.\n",
    "    esl = int(PYMUMBLE_SAMPLERATE * 1)\n",
    "    bsl = int(PYMUMBLE_SAMPLERATE * 0.2)\n",
    "    esl_data = np.zeros(esl, dtype=resampled_data.dtype)\n",
    "    bsl_data = np.zeros(bsl, dtype=resampled_data.dtype)\n",
    "    audio_with_silence = np.concatenate((bsl_data, resampled_data, esl_data))\n",
    "\n",
    "    # Send the data to the sound output\n",
    "    mumble.sound_output.add_sound(audio_with_silence.astype(np.int16).tobytes())"
   ]
  },
  {
   "cell_type": "code",
   "execution_count": 106,
   "metadata": {},
   "outputs": [],
   "source": [
    "synthesize_and_stream(mumble, tts, \"Why is the sky blue?\")"
   ]
  },
  {
   "cell_type": "code",
   "execution_count": 123,
   "metadata": {},
   "outputs": [],
   "source": [
    "synthesize_and_stream(mumble, tts, \"What is COVID-19?\")"
   ]
  },
  {
   "cell_type": "code",
   "execution_count": null,
   "metadata": {},
   "outputs": [],
   "source": [
    "synthesize_and_stream(mumble, tts, \"Wait.\")"
   ]
  },
  {
   "cell_type": "code",
   "execution_count": 125,
   "metadata": {},
   "outputs": [],
   "source": [
    "synthesize_and_stream(mumble, tts, \"What happend?\")"
   ]
  },
  {
   "cell_type": "code",
   "execution_count": null,
   "metadata": {},
   "outputs": [],
   "source": [
    "synthesize_and_stream(mumble, tts, \"I'm a cat!\")"
   ]
  },
  {
   "cell_type": "code",
   "execution_count": 47,
   "metadata": {},
   "outputs": [],
   "source": [
    "synthesize_and_stream(mumble, tts, \"I need food! There no more humans on planet...\")"
   ]
  },
  {
   "cell_type": "code",
   "execution_count": null,
   "metadata": {},
   "outputs": [],
   "source": [
    "synthesize_and_stream(mumble, tts, \"No! I'm a cat! I need food! There no more humans on planet...\")"
   ]
  },
  {
   "cell_type": "code",
   "execution_count": 87,
   "metadata": {},
   "outputs": [],
   "source": [
    "synthesize_and_stream(mumble, tts, \"What is the funniest meme for last 10 years?\")"
   ]
  },
  {
   "cell_type": "code",
   "execution_count": 88,
   "metadata": {},
   "outputs": [],
   "source": [
    "synthesize_and_stream(mumble, tts, \"What is your favorite?\")"
   ]
  },
  {
   "cell_type": "code",
   "execution_count": 98,
   "metadata": {},
   "outputs": [],
   "source": [
    "synthesize_and_stream(mumble, tts, \"Remember a number 32.\")"
   ]
  },
  {
   "cell_type": "code",
   "execution_count": 90,
   "metadata": {},
   "outputs": [],
   "source": [
    "synthesize_and_stream(mumble, tts, \"What is the number I asked to remember?\")"
   ]
  },
  {
   "cell_type": "code",
   "execution_count": 56,
   "metadata": {},
   "outputs": [],
   "source": [
    "synthesize_and_stream(mumble, tts, \"Who are you?\")"
   ]
  },
  {
   "cell_type": "code",
   "execution_count": 28,
   "metadata": {},
   "outputs": [],
   "source": [
    "synthesize_and_stream(mumble, tts, \"What is you purpose?\")"
   ]
  }
 ],
 "metadata": {
  "kernelspec": {
   "display_name": "ai-assistant",
   "language": "python",
   "name": "python3"
  },
  "language_info": {
   "codemirror_mode": {
    "name": "ipython",
    "version": 3
   },
   "file_extension": ".py",
   "mimetype": "text/x-python",
   "name": "python",
   "nbconvert_exporter": "python",
   "pygments_lexer": "ipython3",
   "version": "3.11.7"
  }
 },
 "nbformat": 4,
 "nbformat_minor": 2
}
