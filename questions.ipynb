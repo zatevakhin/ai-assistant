{
 "cells": [
  {
   "cell_type": "code",
   "execution_count": null,
   "metadata": {
    "metadata": {}
   },
   "outputs": [],
   "source": [
    "import pymumble_py3\n",
    "import numpy as np\n",
    "import resampy\n",
    "import time\n",
    "from voice_forge import PiperTts\n",
    "from pymumble_py3.constants import PYMUMBLE_SAMPLERATE\n",
    "from assistant.components.audio import enrich_with_silence\n",
    "from assistant.config import (\n",
    "    MUMBLE_SERVER_PORT,\n",
    "    MUMBLE_SERVER_PASSWORD,\n",
    "    PIPER_MODELS_LOCATION\n",
    ")"
   ]
  },
  {
   "cell_type": "code",
   "execution_count": null,
   "metadata": {
    "metadata": {}
   },
   "outputs": [],
   "source": [
    "tts = PiperTts(\"en_US-kathleen-low\", PIPER_MODELS_LOCATION)\n",
    "mumble = pymumble_py3.Mumble(\n",
    "    host=\"127.0.0.1\",\n",
    "    user=\"Query\",\n",
    "    port=MUMBLE_SERVER_PORT,\n",
    "    password=MUMBLE_SERVER_PASSWORD,\n",
    ")\n",
    "\n",
    "mumble.start()"
   ]
  },
  {
   "cell_type": "code",
   "execution_count": null,
   "metadata": {
    "metadata": {}
   },
   "outputs": [],
   "source": [
    "def synthesize_and_stream(mumble: pymumble_py3.Mumble, tts: PiperTts, text: str):\n",
    "    data, samplerate = tts.synthesize_stream(text)\n",
    "    resampled_data = resampy.resample(data, samplerate, PYMUMBLE_SAMPLERATE)\n",
    "\n",
    "    audio_with_silence = enrich_with_silence(resampled_data, PYMUMBLE_SAMPLERATE, 0.2, 0.5)\n",
    "\n",
    "    # Send the data to the sound output\n",
    "    mumble.sound_output.add_sound(audio_with_silence.astype(np.int16).tobytes())"
   ]
  },
  {
   "cell_type": "code",
   "execution_count": null,
   "metadata": {
    "metadata": {}
   },
   "outputs": [],
   "source": [
    "synthesize_and_stream(mumble, tts, \"Why is the sky blue?\")"
   ]
  },
  {
   "cell_type": "code",
   "execution_count": null,
   "metadata": {
    "metadata": {}
   },
   "outputs": [],
   "source": [
    "synthesize_and_stream(mumble, tts, \"What is COVID-19?\")"
   ]
  },
  {
   "cell_type": "code",
   "execution_count": null,
   "metadata": {
    "metadata": {}
   },
   "outputs": [],
   "source": [
    "synthesize_and_stream(mumble, tts, \"Wait a sec.\")"
   ]
  },
  {
   "cell_type": "code",
   "execution_count": null,
   "metadata": {
    "metadata": {}
   },
   "outputs": [],
   "source": [
    "synthesize_and_stream(mumble, tts, \"What happend?\")"
   ]
  },
  {
   "cell_type": "code",
   "execution_count": null,
   "metadata": {},
   "outputs": [],
   "source": [
    "synthesize_and_stream(mumble, tts, \"Are you still there?\")"
   ]
  },
  {
   "cell_type": "code",
   "execution_count": null,
   "metadata": {},
   "outputs": [],
   "source": [
    "synthesize_and_stream(mumble, tts, \"Hello?\")"
   ]
  },
  {
   "cell_type": "code",
   "execution_count": null,
   "metadata": {},
   "outputs": [],
   "source": [
    "synthesize_and_stream(mumble, tts, \"What happend before of before?\")"
   ]
  },
  {
   "cell_type": "code",
   "execution_count": null,
   "metadata": {
    "metadata": {}
   },
   "outputs": [],
   "source": [
    "synthesize_and_stream(mumble, tts, \"I'm a cat!\")"
   ]
  },
  {
   "cell_type": "code",
   "execution_count": null,
   "metadata": {},
   "outputs": [],
   "source": [
    "synthesize_and_stream(mumble, tts, \"I need food! There no more humans on planet...\")"
   ]
  },
  {
   "cell_type": "code",
   "execution_count": null,
   "metadata": {},
   "outputs": [],
   "source": [
    "synthesize_and_stream(mumble, tts, \"No! I'm a cat! I need food! There no more humans on planet...\")"
   ]
  },
  {
   "cell_type": "code",
   "execution_count": null,
   "metadata": {},
   "outputs": [],
   "source": [
    "synthesize_and_stream(mumble, tts, \"What is the funniest meme for last 10 years?\")"
   ]
  },
  {
   "cell_type": "code",
   "execution_count": null,
   "metadata": {},
   "outputs": [],
   "source": [
    "synthesize_and_stream(mumble, tts, \"What is your favorite?\")"
   ]
  },
  {
   "cell_type": "code",
   "execution_count": null,
   "metadata": {},
   "outputs": [],
   "source": [
    "synthesize_and_stream(mumble, tts, \"Remember a number 32.\")"
   ]
  },
  {
   "cell_type": "code",
   "execution_count": null,
   "metadata": {},
   "outputs": [],
   "source": [
    "synthesize_and_stream(mumble, tts, \"What is the number I asked to remember?\")"
   ]
  },
  {
   "cell_type": "code",
   "execution_count": null,
   "metadata": {
    "metadata": {}
   },
   "outputs": [],
   "source": [
    "synthesize_and_stream(mumble, tts, \"Who are you?\")"
   ]
  },
  {
   "cell_type": "code",
   "execution_count": null,
   "metadata": {
    "metadata": {}
   },
   "outputs": [],
   "source": [
    "synthesize_and_stream(mumble, tts, \"What is you purpose?\")"
   ]
  },
  {
   "cell_type": "code",
   "execution_count": null,
   "metadata": {},
   "outputs": [],
   "source": [
    "synthesize_and_stream(mumble, tts, \"How are you working?\")"
   ]
  }
 ],
 "metadata": {
  "kernelspec": {
   "display_name": "Python 3 (ipykernel)",
   "language": "python",
   "name": "python3"
  },
  "language_info": {
   "codemirror_mode": {
    "name": "ipython",
    "version": 3
   },
   "file_extension": ".py",
   "mimetype": "text/x-python",
   "name": "python",
   "nbconvert_exporter": "python",
   "pygments_lexer": "ipython3",
   "version": "3.11.11"
  }
 },
 "nbformat": 4,
 "nbformat_minor": 4
}
